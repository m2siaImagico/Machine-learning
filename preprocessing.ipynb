{
  "nbformat": 4,
  "nbformat_minor": 0,
  "metadata": {
    "colab": {
      "name": "publin1_preprocessing.ipynb",
      "provenance": [],
      "toc_visible": true,
      "authorship_tag": "ABX9TyOLZGGg8DO2ehl0VcesovPK",
      "include_colab_link": true
    },
    "kernelspec": {
      "name": "python3",
      "display_name": "Python 3"
    }
  },
  "cells": [
    {
      "cell_type": "markdown",
      "metadata": {
        "id": "view-in-github",
        "colab_type": "text"
      },
      "source": [
        "<a href=\"https://colab.research.google.com/github/m2siaImagico/Machine-learning/blob/master/preprocessing.ipynb\" target=\"_parent\"><img src=\"https://colab.research.google.com/assets/colab-badge.svg\" alt=\"Open In Colab\"/></a>"
      ]
    },
    {
      "cell_type": "markdown",
      "metadata": {
        "id": "sSvhMLf1ZFIT",
        "colab_type": "text"
      },
      "source": [
        "# Demonstration"
      ]
    },
    {
      "cell_type": "code",
      "metadata": {
        "id": "je2yb1_RQj6l",
        "colab_type": "code",
        "colab": {}
      },
      "source": [
        "import numpy as np\n",
        "import matplotlib.pyplot as plt\n",
        "from sklearn.datasets import load_iris\n",
        "\n",
        "X = iris.data\n",
        "y = iris.target\n",
        "X_train, X_test, y_train, y_test = train_test_split(X, y, random_state=0)\n",
        "\n",
        "#Estimator\n",
        "model = SGDClassifier(random_state=0)\n"
      ],
      "execution_count": 0,
      "outputs": []
    },
    {
      "cell_type": "markdown",
      "metadata": {
        "id": "QdnlBHZJaNom",
        "colab_type": "text"
      },
      "source": [
        "# Entrainement du modele sur les données brutes"
      ]
    },
    {
      "cell_type": "code",
      "metadata": {
        "id": "ZWmUXc07XMTQ",
        "colab_type": "code",
        "colab": {
          "base_uri": "https://localhost:8080/",
          "height": 33
        },
        "outputId": "a60bff34-59d4-4559-ee04-c5d69a0028b0"
      },
      "source": [
        "#Training et Test sans Normalisation\n",
        "model.fit(X_train, y_train)\n",
        "model.score(X_test, y_test)"
      ],
      "execution_count": 338,
      "outputs": [
        {
          "output_type": "execute_result",
          "data": {
            "text/plain": [
              "0.8421052631578947"
            ]
          },
          "metadata": {
            "tags": []
          },
          "execution_count": 338
        }
      ]
    },
    {
      "cell_type": "markdown",
      "metadata": {
        "id": "F8MVcT5ZXPd2",
        "colab_type": "text"
      },
      "source": [
        "# Entrainement de modele sur les données normalisées"
      ]
    },
    {
      "cell_type": "code",
      "metadata": {
        "id": "y0roeHXAXYRh",
        "colab_type": "code",
        "colab": {
          "base_uri": "https://localhost:8080/",
          "height": 33
        },
        "outputId": "27c1889d-627c-43bd-8e2d-1c2e0e26fb63"
      },
      "source": [
        "from sklearn.preprocessing import MinMaxScaler, StandardScaler, RobustScaler\n",
        "\n",
        "#Transformer\n",
        "\n",
        "#transfor = StandardScaler() # 92% \n",
        "#transfor = RobustScaler() # 97% \n",
        "transfor = MinMaxScaler() # 97% \n",
        "X_train_transformed = scaler.fit_transform(X_train)\n",
        "\n",
        "#Normalisation\n",
        "scaler = StandardScaler()\n",
        "X_train_transformed = transfor.fit_transform(X_train)\n",
        "X_test_transformed = transfor.fit_transform(X_test)\n",
        "\n",
        "#Training et Test avec Normalisation\n",
        "model.fit(X_train_transformed, y_train)\n",
        "model.score(X_test_transformed, y_test)"
      ],
      "execution_count": 339,
      "outputs": [
        {
          "output_type": "execute_result",
          "data": {
            "text/plain": [
              "0.9736842105263158"
            ]
          },
          "metadata": {
            "tags": []
          },
          "execution_count": 339
        }
      ]
    }
  ]
}